{
 "cells": [
  {
   "cell_type": "code",
   "execution_count": 1,
   "id": "2209abce-1127-4f62-bfa6-c6772e0ce14a",
   "metadata": {},
   "outputs": [],
   "source": [
    "import pandas as pd\n",
    "import numpy as np\n",
    "import plotly.express as px\n",
    "import matplotlib.pyplot as plt\n",
    "import sys\n",
    "from sklearn.cluster import KMeans\n",
    "from sklearn.cluster import DBSCAN\n",
    "import numpy as np\n",
    "sys.path.insert(1, '../libs')\n",
    "from scipy.spatial import ConvexHull, convex_hull_plot_2d"
   ]
  },
  {
   "cell_type": "code",
   "execution_count": 2,
   "id": "2cd9e5fe-ac51-4553-9ba3-528e6213f0dc",
   "metadata": {},
   "outputs": [],
   "source": [
    "#-------------------- Load data\n",
    "data = pd.read_excel(\"../data/TephraDataBase_normalizado.xlsx\")\n",
    "data = data.replace('-',np.nan)\n",
    "data = data.replace('not determined',np.nan)\n",
    "data = data.replace('Not analyzed',np.nan)\n",
    "data = data.replace('n.a.',np.nan)\n",
    "data = data.replace('n.d.',np.nan)\n",
    "data = data.replace('Over range',np.nan)\n",
    "data = data.replace('bdl',np.nan)\n",
    "data = data.replace('<1',np.nan)\n",
    "data = data.replace('<4',np.nan)\n",
    "data = data.replace('<6',np.nan)\n",
    "data = data.replace('<5',np.nan)\n",
    "data = data.replace('<10',np.nan)\n",
    "data = data.replace('<0.01',np.nan)\n",
    "data = data.replace('<0.1',np.nan)\n",
    "data.Flag = data.Flag.astype(str)\n",
    "data = data[(data.Flag.str.contains('|'.join(['Outlier','VolcanicSource_Issue'])) == False)]\n",
    "data = data[data.Volcano!='Unknown']"
   ]
  },
  {
   "cell_type": "code",
   "execution_count": null,
   "id": "f6fb776e-ad21-4930-bf2d-fdfd59bbd8e4",
   "metadata": {},
   "outputs": [],
   "source": [
    "data.head()"
   ]
  },
  {
   "cell_type": "code",
   "execution_count": 3,
   "id": "461249f1-aebf-43e9-b152-f4492a36c1fc",
   "metadata": {},
   "outputs": [
    {
     "data": {
      "text/plain": [
       "['Aguilera',\n",
       " 'Antillanca-Casablanca',\n",
       " 'Apagado',\n",
       " 'Caburga-Huelemolle',\n",
       " 'Calbuco',\n",
       " 'Carrán-Los Venados',\n",
       " 'Cay',\n",
       " 'Chaitén',\n",
       " 'Corcovado',\n",
       " 'Cordón Cabrera',\n",
       " 'Hornopirén',\n",
       " 'Huanquihue Group',\n",
       " 'Hudson',\n",
       " 'Huequi',\n",
       " 'Lanín',\n",
       " 'Lautaro',\n",
       " 'Llaima',\n",
       " 'Macá',\n",
       " 'Melimoyu',\n",
       " 'Mentolat',\n",
       " 'Michinmahuida',\n",
       " 'Mocho-Choshuenco',\n",
       " 'Monte Burney',\n",
       " 'Osorno',\n",
       " 'Puyehue-Cordón Caulle',\n",
       " 'Quetrupillán',\n",
       " 'Reclus',\n",
       " 'Sollipulli',\n",
       " 'Subsidiary Vcha dome',\n",
       " 'Villarrica',\n",
       " 'Yanteles',\n",
       " 'Yate']"
      ]
     },
     "execution_count": 3,
     "metadata": {},
     "output_type": "execute_result"
    }
   ],
   "source": [
    "all_volcanoes = sorted(list(data['Volcano'].unique()))\n",
    "all_volcanoes"
   ]
  },
  {
   "cell_type": "markdown",
   "id": "2544da0b-2eb3-437c-91fc-a2dde9754a6e",
   "metadata": {},
   "source": [
    "# TEST 1: Scatterplot of one volcano\n",
    "\n",
    "Reference: https://stackoverflow.com/questions/66676027/plot-the-convex-hull-in-pca-and-lda-plot-python"
   ]
  },
  {
   "cell_type": "code",
   "execution_count": null,
   "id": "98b6b088-33b0-42c3-b9e3-791f40184797",
   "metadata": {},
   "outputs": [],
   "source": [
    "v = 'Antillanca-Casablanca'\n",
    "v_samples = data[data.Volcano==v]\n",
    "v_samples.head()"
   ]
  },
  {
   "cell_type": "code",
   "execution_count": null,
   "id": "63b1ba7c-fb79-4e74-a049-710fb20378a8",
   "metadata": {},
   "outputs": [],
   "source": [
    "points = []\n",
    "x_dim = 'SiO2'\n",
    "y_dim = 'K2O'\n",
    "for i, row in v_samples.iterrows():\n",
    "    if np.isnan(row[x_dim]) or np.isnan(row[y_dim]): continue\n",
    "    p = [row[x_dim], row[y_dim]]\n",
    "    points.append(p)\n",
    "points = np.array(points)\n",
    "hull = ConvexHull(points)"
   ]
  },
  {
   "cell_type": "code",
   "execution_count": null,
   "id": "d5bf6eff-c2ed-4cdf-b9c7-9f9605423e32",
   "metadata": {},
   "outputs": [],
   "source": [
    "# Options: http://www.qhull.org/html/qh-optq.htm\n",
    "hull = ConvexHull(points, qhull_options='Qa')"
   ]
  },
  {
   "cell_type": "code",
   "execution_count": null,
   "id": "6cd342de-b9d4-4140-9b60-f9070e87a54f",
   "metadata": {},
   "outputs": [],
   "source": [
    "import matplotlib.pyplot as plt\n",
    "plt.plot(points[:,0], points[:,1], 'o')\n",
    "for simplex in hull.simplices:\n",
    "    plt.plot(points[simplex, 0], points[simplex, 1], 'k-')"
   ]
  },
  {
   "cell_type": "markdown",
   "id": "138b2bf8-2843-4d50-9da2-757a0d1fd520",
   "metadata": {},
   "source": [
    "# Test 2: clustering first"
   ]
  },
  {
   "cell_type": "code",
   "execution_count": 4,
   "id": "21a1daeb-05d6-4683-b849-6fa70c4f221c",
   "metadata": {},
   "outputs": [],
   "source": [
    "# Gather points\n",
    "v = 'Monte Burney'\n",
    "v_samples = data[data.Volcano==v]\n",
    "v_samples.head()\n",
    "\n",
    "points = []\n",
    "x_dim = 'SiO2'\n",
    "y_dim = 'K2O'\n",
    "for i, row in v_samples.iterrows():\n",
    "    if np.isnan(row[x_dim]) or np.isnan(row[y_dim]): continue\n",
    "    p = [row[x_dim], row[y_dim]]\n",
    "    points.append(p)\n",
    "points = np.array(points)"
   ]
  },
  {
   "cell_type": "code",
   "execution_count": null,
   "id": "d1535787-0d68-4503-b71f-7b1cc263150c",
   "metadata": {},
   "outputs": [],
   "source": [
    "# COMPUTE CLUSTERS KMEANS\n",
    "\n",
    "n_clusters = 3\n",
    "kmeans = KMeans(n_clusters=n_clusters, random_state=0).fit(points)\n",
    "clusters = {}\n",
    "for i in range(0, n_clusters):\n",
    "    clusters[i] = []\n",
    "for i, label in enumerate(kmeans.labels_):\n",
    "    clusters[label].append(points[i])\n",
    "for i in range(0, n_clusters):\n",
    "    clusters[i] = np.array(clusters[i])"
   ]
  },
  {
   "cell_type": "code",
   "execution_count": 8,
   "id": "c1ce30d1-2203-4f73-8d60-d56a97f4177f",
   "metadata": {},
   "outputs": [
    {
     "data": {
      "text/plain": [
       "array([ 0,  0,  0,  0,  0,  0,  0,  0,  0,  0,  0,  0,  0,  0,  0,  0,  0,\n",
       "        0,  0,  0,  0,  0,  0, -1,  0,  0,  0, -1,  0,  0,  0, -1,  0,  0,\n",
       "        0,  0,  0,  0,  0,  0,  0,  0,  0,  0,  0,  0,  0,  0,  0,  0,  0,\n",
       "        0,  0,  0,  0,  0,  0,  0,  0, -1, -1, -1,  0,  0, -1, -1,  0,  0,\n",
       "        0, -1,  0,  0,  0,  0,  0, -1,  0,  0, -1,  0,  0,  0,  0,  0,  0,\n",
       "        0,  0,  0,  0,  0,  0,  0,  0,  0,  0, -1,  0,  0,  0,  0,  0,  0,\n",
       "        0,  0,  0,  0,  0,  0, -1,  0,  0,  0,  0,  0,  0,  0,  0,  0,  0,\n",
       "        0,  0,  0,  0,  0,  0,  0,  0,  0,  0,  0,  0,  0,  0,  0,  0,  0,\n",
       "       -1,  0,  0,  0,  0,  0,  0,  0,  0,  0,  0,  0,  0,  0,  0,  0,  0,\n",
       "        0,  0,  0,  0,  0,  0,  0,  0,  0,  0,  0,  0,  0,  0,  0,  0,  0,\n",
       "        0,  0,  0,  0,  0,  0,  0,  0,  0,  0,  0,  0, -1,  0,  0,  0,  0,\n",
       "        0, -1,  0,  0,  0,  0,  0,  0,  0,  0,  0,  0,  0,  0,  0,  0,  0,\n",
       "        0,  0, -1,  0,  0,  0,  0,  0,  0,  0,  0,  0,  0, -1,  0,  0,  0,\n",
       "        0,  0,  0,  0,  0,  0,  0,  0,  0, -1,  0,  0,  0,  0,  0,  0, -1,\n",
       "        0,  0,  0,  0,  0,  0,  0,  0,  0,  0,  0,  0,  0,  0,  0,  0,  0,\n",
       "        0,  0,  0,  0,  0,  0,  0,  0,  0,  0,  0,  0,  0,  0,  0,  0,  0,\n",
       "        0,  0,  0,  0, -1, -1,  0, -1,  0, -1,  0,  0,  0,  0,  0,  0,  0,\n",
       "        0,  0,  0,  0,  0,  0,  0,  0,  0,  0,  0,  0,  0,  0,  0,  0,  0,\n",
       "        0,  0,  0,  0, -1,  0,  0,  0,  0,  0,  0,  0,  0,  0,  0,  0,  0,\n",
       "        0,  0,  0,  0,  0,  0,  0,  0,  0,  0,  0,  0,  0,  0,  0,  0,  0,\n",
       "        0,  0,  0,  0,  0,  0,  0,  0,  0,  0,  0,  0,  0,  0,  0,  0,  0,\n",
       "        0,  0,  0,  0,  0,  0,  0,  0,  0,  0,  0,  0,  0])"
      ]
     },
     "execution_count": 8,
     "metadata": {},
     "output_type": "execute_result"
    }
   ],
   "source": [
    "labels"
   ]
  },
  {
   "cell_type": "code",
   "execution_count": 14,
   "id": "14bbedca-e4d9-450a-81d5-5936b1a00f2d",
   "metadata": {},
   "outputs": [],
   "source": [
    "# COMPUTE CLUSTERS DBSCAN\n",
    "cluster_instance = DBSCAN(eps=0.3, min_samples=10).fit(points)\n",
    "labels = cluster_instance.labels_\n",
    "n_clusters = len(set(labels)) - (1 if -1 in labels else 0)\n",
    "clusters_names = list(set(labels))\n",
    "clusters_names = [str(x) for x in clusters_names]\n",
    "clusters = {}\n",
    "for i in clusters_names:\n",
    "    clusters[i] = []\n",
    "for i, label in enumerate(cluster_instance.labels_):\n",
    "    clusters[str(label)].append(points[i])\n",
    "for i in clusters_names:\n",
    "    clusters[i] = np.array(clusters[i])"
   ]
  },
  {
   "cell_type": "code",
   "execution_count": 16,
   "id": "7d9dfcab-79e2-42d4-a209-7aae0acf44e3",
   "metadata": {},
   "outputs": [
    {
     "data": {
      "text/plain": [
       "[(0.0, 0.0, 1.0),\n",
       " (0.0, 0.5, 0.0),\n",
       " (1.0, 0.0, 0.0),\n",
       " (0.0, 0.75, 0.75),\n",
       " (0.75, 0.0, 0.75),\n",
       " (0.75, 0.75, 0.0),\n",
       " (0.0, 0.0, 0.0),\n",
       " (1.0, 1.0, 1.0)]"
      ]
     },
     "execution_count": 16,
     "metadata": {},
     "output_type": "execute_result"
    }
   ],
   "source": [
    "# SET COLORS\n",
    "import matplotlib.colors as mcolors\n",
    "colors = []\n",
    "for c in mcolors.BASE_COLORS:\n",
    "    colors.append(mcolors.to_rgb(c))\n",
    "colors"
   ]
  },
  {
   "cell_type": "code",
   "execution_count": 18,
   "id": "2c7a5dcd-86e9-4302-8bf3-8b9ee471e9ab",
   "metadata": {},
   "outputs": [
    {
     "data": {
      "image/png": "[encoded data removed]",
      "text/plain": [
       "<Figure size 432x288 with 1 Axes>"
      ]
     },
     "metadata": {
      "needs_background": "light"
     },
     "output_type": "display_data"
    }
   ],
   "source": [
    "# PLOT\n",
    "\n",
    "import matplotlib.pyplot as plt\n",
    "color_index = 0\n",
    "for c_label, c_points in clusters.items():\n",
    "    c_points[:,0]\n",
    "    color = colors[color_index]\n",
    "    color_index += 1\n",
    "    plt.scatter(c_points[:,0], c_points[:,1], color=color, alpha=.8)\n",
    "    hull = ConvexHull(c_points)\n",
    "    for simplex in hull.simplices:\n",
    "        plt.plot(c_points[simplex, 0], c_points[simplex, 1], 'k-')"
   ]
  },
  {
   "cell_type": "code",
   "execution_count": null,
   "id": "a9709596-dee4-40e7-9bf1-f72396d3a248",
   "metadata": {},
   "outputs": [],
   "source": []
  },
  {
   "cell_type": "markdown",
   "id": "d2e0d06c-d3a3-4acd-a835-0cd34f586330",
   "metadata": {},
   "source": [
    "## FROM: https://towardsdatascience.com/k-means-clustering-how-it-works-finding-the-optimum-number-of-clusters-in-the-data-13d18739255c"
   ]
  },
  {
   "cell_type": "markdown",
   "id": "80171d93-581d-412e-b089-20e3f05f84f2",
   "metadata": {},
   "source": [
    "# TEST 3: NUMBER OF CLUSTERS\n",
    "\n",
    "TODO: This seems to be a tricky problem! "
   ]
  },
  {
   "cell_type": "code",
   "execution_count": null,
   "id": "cb2e427b-c452-4e15-83b7-3571488ae4c0",
   "metadata": {},
   "outputs": [],
   "source": [
    "# test number of clusters\n",
    "\n",
    "from sklearn.metrics import silhouette_samples, silhouette_score\n",
    "import matplotlib.cm as cm\n",
    "\n",
    "range_n_clusters = [2, 3, 4, 5]\n",
    "\n",
    "for n_clusters in range_n_clusters:\n",
    "    # Create a subplot with 1 row and 2 columns\n",
    "    fig, (ax1, ax2) = plt.subplots(1, 2)\n",
    "    fig.set_size_inches(18, 7)\n",
    "\n",
    "    # The 1st subplot is the silhouette plot\n",
    "    # The silhouette coefficient can range from -1, 1 but in this example all\n",
    "    # lie within [-0.1, 1]\n",
    "    ax1.set_xlim([-0.1, 1])\n",
    "    # The (n_clusters+1)*10 is for inserting blank space between silhouette\n",
    "    # plots of individual clusters, to demarcate them clearly.\n",
    "    ax1.set_ylim([0, len(points) + (n_clusters + 1) * 10])\n",
    "\n",
    "    # Initialize the clusterer with n_clusters value and a random generator\n",
    "    # seed of 10 for reproducibility.\n",
    "    clusterer = KMeans(n_clusters=n_clusters, random_state=10)\n",
    "    cluster_labels = clusterer.fit_predict(points)\n",
    "\n",
    "    # The silhouette_score gives the average value for all the samples.\n",
    "    # This gives a perspective into the density and separation of the formed\n",
    "    # clusters\n",
    "    silhouette_avg = silhouette_score(points, cluster_labels)\n",
    "    print(\"For n_clusters =\", n_clusters,\n",
    "          \"The average silhouette_score is :\", silhouette_avg)\n",
    "\n",
    "    # Compute the silhouette scores for each sample\n",
    "    sample_silhouette_values = silhouette_samples(points, cluster_labels)\n",
    "\n",
    "    y_lower = 10\n",
    "    for i in range(n_clusters):\n",
    "        # Aggregate the silhouette scores for samples belonging to\n",
    "        # cluster i, and sort them\n",
    "        ith_cluster_silhouette_values = \\\n",
    "            sample_silhouette_values[cluster_labels == i]\n",
    "\n",
    "        ith_cluster_silhouette_values.sort()\n",
    "\n",
    "        size_cluster_i = ith_cluster_silhouette_values.shape[0]\n",
    "        y_upper = y_lower + size_cluster_i\n",
    "\n",
    "        color = cm.nipy_spectral(float(i) / n_clusters)\n",
    "        ax1.fill_betweenx(np.arange(y_lower, y_upper),\n",
    "                          0, ith_cluster_silhouette_values,\n",
    "                          facecolor=color, edgecolor=color, alpha=0.7)\n",
    "\n",
    "        # Label the silhouette plots with their cluster numbers at the middle\n",
    "        ax1.text(-0.05, y_lower + 0.5 * size_cluster_i, str(i))\n",
    "\n",
    "        # Compute the new y_lower for next plot\n",
    "        y_lower = y_upper + 10  # 10 for the 0 samples\n",
    "\n",
    "    ax1.set_title(\"The silhouette plot for the various clusters.\")\n",
    "    ax1.set_xlabel(\"The silhouette coefficient values\")\n",
    "    ax1.set_ylabel(\"Cluster label\")\n",
    "\n",
    "    # The vertical line for average silhouette score of all the values\n",
    "    ax1.axvline(x=silhouette_avg, color=\"red\", linestyle=\"--\")\n",
    "\n",
    "    ax1.set_yticks([])  # Clear the yaxis labels / ticks\n",
    "    ax1.set_xticks([-0.1, 0, 0.2, 0.4, 0.6, 0.8, 1])\n",
    "\n",
    "    # 2nd Plot showing the actual clusters formed\n",
    "    colors = cm.nipy_spectral(cluster_labels.astype(float) / n_clusters)\n",
    "    ax2.scatter(points[:, 0], points[:, 1], marker='.', s=30, lw=0, alpha=0.7,\n",
    "                c=colors, edgecolor='k')\n",
    "\n",
    "    # Labeling the clusters\n",
    "    centers = clusterer.cluster_centers_\n",
    "    # Draw white circles at cluster centers\n",
    "    ax2.scatter(centers[:, 0], centers[:, 1], marker='o',\n",
    "                c=\"white\", alpha=1, s=200, edgecolor='k')\n",
    "\n",
    "    for i, c in enumerate(centers):\n",
    "        ax2.scatter(c[0], c[1], marker='$%d$' % i, alpha=1,\n",
    "                    s=50, edgecolor='k')\n",
    "\n",
    "    ax2.set_title(\"The visualization of the clustered data.\")\n",
    "    ax2.set_xlabel(\"Feature space for the 1st feature\")\n",
    "    ax2.set_ylabel(\"Feature space for the 2nd feature\")\n",
    "\n",
    "    plt.suptitle((\"Silhouette analysis for KMeans clustering on sample data \"\n",
    "                  \"with n_clusters = %d\" % n_clusters),\n",
    "                 fontsize=14, fontweight='bold')\n",
    "\n",
    "plt.show()"
   ]
  },
  {
   "cell_type": "markdown",
   "id": "3116bb28-c5ca-48f1-bd91-ed21ff06411c",
   "metadata": {},
   "source": [
    "## From https://jtemporal.com/kmeans-and-elbow-method/"
   ]
  },
  {
   "cell_type": "code",
   "execution_count": null,
   "id": "084937cf-9c01-4607-93ca-56aee7bca4b6",
   "metadata": {},
   "outputs": [],
   "source": [
    "def calculate_wcss(data):\n",
    "        wcss = []\n",
    "        for n in range(2, 21):\n",
    "            kmeans = KMeans(n_clusters=n)\n",
    "            kmeans.fit(X=data)\n",
    "            wcss.append(kmeans.inertia_)\n",
    "    \n",
    "        return wcss"
   ]
  },
  {
   "cell_type": "code",
   "execution_count": null,
   "id": "5a9d7e22-8a54-428c-be7f-f435c2f64a80",
   "metadata": {},
   "outputs": [],
   "source": [
    "def optimal_number_of_clusters(wcss):\n",
    "    x1, y1 = 2, wcss[0]\n",
    "    x2, y2 = 20, wcss[len(wcss)-1]\n",
    "\n",
    "    distances = []\n",
    "    for i in range(len(wcss)):\n",
    "        x0 = i+2\n",
    "        y0 = wcss[i]\n",
    "        numerator = abs((y2-y1)*x0 - (x2-x1)*y0 + x2*y1 - y2*x1)\n",
    "        denominator = np.sqrt((y2 - y1)**2 + (x2 - x1)**2)\n",
    "        distances.append(numerator/denominator)\n",
    "    \n",
    "    return distances.index(max(distances)) + 2"
   ]
  },
  {
   "cell_type": "code",
   "execution_count": null,
   "id": "a5fdc16f-0ac9-4a82-925d-9eb626fa9fd7",
   "metadata": {},
   "outputs": [],
   "source": [
    "import seaborn as sns\n",
    "    \n",
    "from sklearn.cluster import KMeans"
   ]
  },
  {
   "cell_type": "code",
   "execution_count": null,
   "id": "d0307aea-a834-492b-a69b-29015c63dbb4",
   "metadata": {},
   "outputs": [],
   "source": [
    "iris = sns.load_dataset('iris')\n",
    "df = iris.drop('species', axis=1)\n",
    "df"
   ]
  },
  {
   "cell_type": "code",
   "execution_count": null,
   "id": "454b4fd6-2b58-479c-ada1-bf3d441f27c5",
   "metadata": {},
   "outputs": [],
   "source": [
    "import seaborn as sns\n",
    "    \n",
    "from sklearn.cluster import KMeans\n",
    "    \n",
    "    \n",
    "# preparing our data\n",
    "iris = sns.load_dataset('iris')\n",
    "df = iris.drop('species', axis=1)\n",
    "    \n",
    "# calculating the within clusters sum-of-squares for 19 cluster amounts\n",
    "sum_of_squares = calculate_wcss(df)\n",
    "    \n",
    "# calculating the optimal number of clusters\n",
    "n = optimal_number_of_clusters(sum_of_squares)\n",
    "    \n",
    "# running kmeans to our optimal number of clusters\n",
    "kmeans = KMeans(n_clusters=n)\n",
    "clusters = kmeans.fit_predict(df)"
   ]
  },
  {
   "cell_type": "code",
   "execution_count": null,
   "id": "282a8b9e-74e6-47e3-8ab6-1705ca7ec47d",
   "metadata": {},
   "outputs": [],
   "source": [
    "sum_of_squares"
   ]
  }
 ],
 "metadata": {
  "kernelspec": {
   "display_name": "Python 3",
   "language": "python",
   "name": "python3"
  },
  "language_info": {
   "codemirror_mode": {
    "name": "ipython",
    "version": 3
   },
   "file_extension": ".py",
   "mimetype": "text/x-python",
   "name": "python",
   "nbconvert_exporter": "python",
   "pygments_lexer": "ipython3",
   "version": "3.8.10"
  }
 },
 "nbformat": 4,
 "nbformat_minor": 5
}
